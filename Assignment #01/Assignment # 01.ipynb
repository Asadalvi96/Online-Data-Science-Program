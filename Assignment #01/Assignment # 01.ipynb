{
 "cells": [
  {
   "cell_type": "code",
   "execution_count": 1,
   "id": "07cdb07a",
   "metadata": {},
   "outputs": [],
   "source": [
    "# Write python program to get the python version you are using"
   ]
  },
  {
   "cell_type": "code",
   "execution_count": 8,
   "id": "c7ad7b6d",
   "metadata": {},
   "outputs": [
    {
     "name": "stdout",
     "output_type": "stream",
     "text": [
      "Python version\n",
      "3.9.7\n"
     ]
    }
   ],
   "source": [
    "import platform;\n",
    "print (\"Python version\");\n",
    "print(platform.python_version());"
   ]
  },
  {
   "cell_type": "code",
   "execution_count": 3,
   "id": "01f934f4",
   "metadata": {},
   "outputs": [],
   "source": [
    "# Write a python program which accepts the user's first and last name and print them in reverse order with a sapce between them."
   ]
  },
  {
   "cell_type": "code",
   "execution_count": 21,
   "id": "820c2190",
   "metadata": {},
   "outputs": [
    {
     "name": "stdout",
     "output_type": "stream",
     "text": [
      "Input your First Name : Muhammad Asad\n",
      "Input your Last Name : Zamir\n",
      "Hello!  Zamir Muhammad Asad\n"
     ]
    }
   ],
   "source": [
    "fname = input(\"Input your First Name : \");\n",
    "lname = input(\"Input your Last Name : \");\n",
    "print (\"Hello!  \" + lname + \" \" + fname);"
   ]
  },
  {
   "cell_type": "code",
   "execution_count": 18,
   "id": "867734ed",
   "metadata": {},
   "outputs": [
    {
     "name": "stdout",
     "output_type": "stream",
     "text": [
      "Type a number: 8\n",
      "Type another number: 5\n",
      "The sum is:  13\n"
     ]
    }
   ],
   "source": [
    "# Write a python program which takes two inputs from user and print them addition\n",
    "x = input(\"Type a number: \");\n",
    "y = input(\"Type another number: \");\n",
    "\n",
    "sum = int(x) + int(y);\n",
    "\n",
    "print(\"The sum is: \", sum);\n"
   ]
  },
  {
   "cell_type": "code",
   "execution_count": 15,
   "id": "74b5d1fe",
   "metadata": {},
   "outputs": [
    {
     "name": "stdout",
     "output_type": "stream",
     "text": [
      "r : 1.1\n",
      "3.8013271108436504\n"
     ]
    }
   ],
   "source": [
    "# Write a python program whichaccepts the radius of a circle from the user and compute the area\n",
    "from math import pi;\n",
    "r = float(input (\"r : \"));\n",
    "print (pi * r**2);"
   ]
  },
  {
   "cell_type": "code",
   "execution_count": 14,
   "id": "05f7cdfa",
   "metadata": {},
   "outputs": [
    {
     "name": "stdout",
     "output_type": "stream",
     "text": [
      "Twinkle, twinkle, little star, \n",
      "\tHow I wonder what you are! \n",
      "\t\tUp above the world so high, \n",
      "\t\tLike a diamond in the sky. \n",
      "Twinkle, twinkle, little star, \n",
      "\tHow I wonder what you are!\n"
     ]
    }
   ],
   "source": [
    "# Write a Python program to print the following string in a specific format\n",
    "\n",
    "print(\"Twinkle, twinkle, little star, \\n\\tHow I wonder what you are! \\n\\t\\tUp above the world so high, \\n\\t\\tLike a diamond in the sky. \\nTwinkle, twinkle, little star, \\n\\tHow I wonder what you are!\");\n"
   ]
  },
  {
   "cell_type": "code",
   "execution_count": 20,
   "id": "ce546b87",
   "metadata": {},
   "outputs": [
    {
     "name": "stdout",
     "output_type": "stream",
     "text": [
      "Current date and time : \n",
      "2021-12-31 17:46:03\n"
     ]
    }
   ],
   "source": [
    "# Write a Python program to display the current date and time\n",
    "import datetime;\n",
    "now = datetime.datetime.now();\n",
    "print (\"Current date and time : \");\n",
    "print (now.strftime(\"%Y-%m-%d %H:%M:%S\"));"
   ]
  },
  {
   "cell_type": "code",
   "execution_count": null,
   "id": "7bf3bc91",
   "metadata": {},
   "outputs": [],
   "source": []
  }
 ],
 "metadata": {
  "kernelspec": {
   "display_name": "Python 3 (ipykernel)",
   "language": "python",
   "name": "python3"
  },
  "language_info": {
   "codemirror_mode": {
    "name": "ipython",
    "version": 3
   },
   "file_extension": ".py",
   "mimetype": "text/x-python",
   "name": "python",
   "nbconvert_exporter": "python",
   "pygments_lexer": "ipython3",
   "version": "3.9.7"
  }
 },
 "nbformat": 4,
 "nbformat_minor": 5
}
